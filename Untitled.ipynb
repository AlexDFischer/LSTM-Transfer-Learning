{
 "cells": [
  {
   "cell_type": "code",
   "execution_count": 1,
   "metadata": {},
   "outputs": [],
   "source": [
    "# Setup\n",
    "\n",
    "# Characters are represented by 1-hot vectors of size 128\n",
    "char_dim = 128\n",
    "\n",
    "import numpy as np\n",
    "import os\n",
    "from collections import Counter\n",
    "import unicodedata\n",
    "import string\n",
    "import gc\n",
    "import matplotlib.pyplot as plt\n",
    "\n",
    "import torch\n",
    "from torch import nn\n",
    "import torch.nn.functional as F\n",
    "from torch.nn import LSTM\n",
    "from torch import optim"
   ]
  },
  {
   "cell_type": "code",
   "execution_count": 7,
   "metadata": {},
   "outputs": [
    {
     "name": "stdout",
     "output_type": "stream",
     "text": [
      "torch.Size([80, 5])\n",
      "torch.Size([80, 20])\n",
      "torch.Size([80])\n",
      "torch.Size([80])\n",
      "torch.Size([80, 20])\n",
      "torch.Size([80, 20])\n",
      "torch.Size([80])\n",
      "torch.Size([80])\n",
      "torch.Size([80, 20])\n",
      "torch.Size([80, 20])\n",
      "torch.Size([80])\n",
      "torch.Size([80])\n",
      "torch.Size([80, 20])\n",
      "torch.Size([80, 20])\n",
      "torch.Size([80])\n",
      "torch.Size([80])\n",
      "torch.Size([80, 20])\n",
      "torch.Size([80, 20])\n",
      "torch.Size([80])\n",
      "torch.Size([80])\n",
      "torch.Size([80, 20])\n",
      "torch.Size([80, 20])\n",
      "torch.Size([80])\n",
      "torch.Size([80])\n",
      "torch.Size([80, 20])\n",
      "torch.Size([80, 20])\n",
      "torch.Size([80])\n",
      "torch.Size([80])\n",
      "torch.Size([80, 20])\n",
      "torch.Size([80, 20])\n",
      "torch.Size([80])\n",
      "torch.Size([80])\n",
      "torch.Size([80, 20])\n",
      "torch.Size([80, 20])\n",
      "torch.Size([80])\n",
      "torch.Size([80])\n",
      "torch.Size([80, 20])\n",
      "torch.Size([80, 20])\n",
      "torch.Size([80])\n",
      "torch.Size([80])\n",
      "has 40 parameters\n"
     ]
    }
   ],
   "source": [
    "my_lstm = nn.LSTM(5, 20, num_layers=10)\n",
    "\n",
    "count = 0\n",
    "for param in my_lstm.parameters():\n",
    "    count += 1\n",
    "    print(param.shape)\n",
    "print('has %d parameters' % count)"
   ]
  },
  {
   "cell_type": "code",
   "execution_count": 8,
   "metadata": {},
   "outputs": [
    {
     "name": "stdout",
     "output_type": "stream",
     "text": [
      "torch.Size([20, 128])\n",
      "torch.Size([20, 5])\n",
      "torch.Size([20])\n",
      "torch.Size([20])\n",
      "torch.Size([20, 5])\n",
      "torch.Size([20, 5])\n",
      "torch.Size([20])\n",
      "torch.Size([20])\n",
      "torch.Size([20, 5])\n",
      "torch.Size([20, 5])\n",
      "torch.Size([20])\n",
      "torch.Size([20])\n",
      "torch.Size([20, 5])\n",
      "torch.Size([20, 5])\n",
      "torch.Size([20])\n",
      "torch.Size([20])\n",
      "torch.Size([20, 5])\n",
      "torch.Size([20, 5])\n",
      "torch.Size([20])\n",
      "torch.Size([20])\n",
      "torch.Size([128, 5])\n",
      "torch.Size([128])\n"
     ]
    }
   ],
   "source": [
    "class BeatlesLSTM(nn.Module):\n",
    "    def __init__(self, hidden_dim, num_stacks):\n",
    "        super(BeatlesLSTM, self).__init__()\n",
    "        self.hidden_dim = hidden_dim\n",
    "\n",
    "        self.lstm = nn.LSTM(char_dim, hidden_dim, num_layers=num_stacks, dropout=0.0)\n",
    "        \n",
    "        # The linear layer that maps from hidden state space to character space\n",
    "        self.hidden2char = nn.Linear(hidden_dim, char_dim)\n",
    "        self.init_hidden_zeros(1)\n",
    "    \n",
    "    def init_hidden_zeros(self, minibatch_size):\n",
    "        self.init_hidden(torch.zeros((self.lstm.num_layers, minibatch_size, self.hidden_dim)), torch.zeros((self.lstm.num_layers, minibatch_size, self.hidden_dim)))\n",
    "    \n",
    "    def init_hidden(self, h, c):\n",
    "        self.hidden = (h, c)\n",
    "\n",
    "    def forward(self, text):\n",
    "        # text should be of size (T, N, char_dim)\n",
    "        # returns character scores of size (T, N, char_dim)\n",
    "        \n",
    "        hs, self.hidden = self.lstm(text, self.hidden)\n",
    "        char_space = self.hidden2char(hs)\n",
    "        return char_space\n",
    "\n",
    "test = BeatlesLSTM(5, 5)\n",
    "count = 0\n",
    "for param in test.parameters():\n",
    "    print(param.shape)"
   ]
  }
 ],
 "metadata": {
  "kernelspec": {
   "display_name": "Python 3",
   "language": "python",
   "name": "python3"
  },
  "language_info": {
   "codemirror_mode": {
    "name": "ipython",
    "version": 3
   },
   "file_extension": ".py",
   "mimetype": "text/x-python",
   "name": "python",
   "nbconvert_exporter": "python",
   "pygments_lexer": "ipython3",
   "version": "3.6.5"
  }
 },
 "nbformat": 4,
 "nbformat_minor": 2
}
