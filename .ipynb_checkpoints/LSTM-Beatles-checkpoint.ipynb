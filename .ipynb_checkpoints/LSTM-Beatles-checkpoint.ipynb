{
 "cells": [
  {
   "cell_type": "code",
   "execution_count": 66,
   "metadata": {},
   "outputs": [],
   "source": [
    "# Setup\n",
    "\n",
    "# Characters are represented by 1-hot vectors of size 128\n",
    "char_dim = 128\n",
    "\n",
    "import numpy as np\n",
    "import os\n",
    "from collections import Counter\n",
    "import unicodedata\n",
    "import string\n",
    "import gc\n",
    "import matplotlib.pyplot as plt\n",
    "\n",
    "import torch\n",
    "from torch import nn\n",
    "import torch.nn.functional as F\n",
    "from torch.nn import LSTM\n",
    "from torch import optim"
   ]
  },
  {
   "cell_type": "code",
   "execution_count": 17,
   "metadata": {},
   "outputs": [
    {
     "name": "stdout",
     "output_type": "stream",
     "text": [
      "read 148667 characters\n",
      "Counter({' ': 24384, 'n': 13118, 'e': 13002, 'o': 9898, 't': 8128, 'a': 7361, '\\\\': 5725, 'h': 5718, 'l': 5473, 'i': 5456, 's': 4862, 'r': 4848, 'y': 4260, 'd': 3771, 'u': 3528, 'm': 3125, 'g': 2673, 'w': 2581, ',': 2026, 'I': 1938, 'b': 1810, 'c': 1681, '.': 1438, 'k': 1382, 'v': 1269, 'f': 1256, 'p': 1085, \"'\": 985, 'T': 559, 'S': 492, 'A': 481, 'W': 409, 'O': 339, 'P': 296, 'B': 293, 'Y': 277, 'H': 236, '-': 228, 'L': 210, 'D': 208, 'M': 199, 'C': 161, 'N': 143, 'j': 137, 'G': 132, '(': 117, ')': 117, 'E': 107, 'R': 106, '?': 101, 'F': 95, 'z': 72, 'J': 69, 'x': 69, '!': 48, 'K': 46, 'U': 30, 'q': 18, '9': 15, ']': 12, 'V': 10, ';': 9, '[': 9, '0': 9, 'Q': 5, '1': 4, '5': 3, '\"': 2, '2': 2, '3': 2, '4': 2, '7': 2, ':': 2, '/': 1, '6': 1, '8': 1})\n"
     ]
    }
   ],
   "source": [
    "# replaces special characters with their close equivalents in order to simplify the characters that appear\n",
    "def clean_text(text):\n",
    "    # TODO I goofed this function. It replaces newline characters with the literal characters \\n, undesirably. Fix it later.\n",
    "    return str(unicodedata.normalize('NFD', text).encode('ascii', 'ignore'))\n",
    "\n",
    "file = open('beatles.txt', 'r')\n",
    "beatleslyrics = ''\n",
    "# ignore lines that consist of 'TOP'\n",
    "line = file.readline()\n",
    "while line != '':\n",
    "    beatleslyrics += line\n",
    "    line = file.readline()\n",
    "file.close()\n",
    "beatleslyrics = clean_text(beatleslyrics)\n",
    "print('read %d characters' % len(beatleslyrics))\n",
    "char_counter = Counter(beatleslyrics)\n",
    "print(char_counter)\n",
    "\n",
    "for key in char_counter.keys():\n",
    "    if ord(key) >= 128:\n",
    "        print('invalid character value found: %s has numeric value %d', key, ord(key))"
   ]
  },
  {
   "cell_type": "code",
   "execution_count": 22,
   "metadata": {},
   "outputs": [],
   "source": [
    "# converts a list of N strings of length T into a numpy array of 1-hot vectors\n",
    "# input size: (N, T)\n",
    "# output size: (T, N, 128)\n",
    "i128 = np.eye(128)\n",
    "def char_to_ix(texts):\n",
    "    T = max([len(text) for text in texts])\n",
    "    ords = np.zeros((T, len(texts)), dtype=int)\n",
    "    for n, text in enumerate(texts):\n",
    "        ords[:len(text), n] = [ord(char) for char in text]\n",
    "    return i128[ords]\n",
    "\n",
    "# converts a list of N strings of length <=T into a numpy array of length (T, N).\n",
    "# Zero-pads shorter strings.\n",
    "def char_to_array(texts):\n",
    "    T = max([len(text) for text in texts])\n",
    "    result = np.zeros((T, len(texts)), dtype=int)\n",
    "    for n, text in enumerate(texts):\n",
    "        result[:len(text), n] = [ord(char) for char in text]\n",
    "    return result\n",
    "    #ords = np.array([[ord(char) for char in text] for text in texts], dtype=int)\n",
    "    #return ords.transpose((1, 0))"
   ]
  },
  {
   "cell_type": "code",
   "execution_count": 30,
   "metadata": {},
   "outputs": [
    {
     "name": "stdout",
     "output_type": "stream",
     "text": [
      "number of songs: 181\n",
      "torch.Size([1770, 61, 128])\n",
      "torch.Size([1770, 61])\n",
      "61\n",
      "60\n",
      "60\n"
     ]
    }
   ],
   "source": [
    "# free some memory if possible\n",
    "train_data = None\n",
    "val_data = None\n",
    "test_data = None\n",
    "val_data_ix = None\n",
    "val_data_array = None\n",
    "test_data_ix = None\n",
    "test_data_array = None\n",
    "gc.collect()\n",
    "\n",
    "train_data = ''\n",
    "val_data = ''\n",
    "test_data = ''\n",
    "\n",
    "# the string TOP separates all songs\n",
    "songs = beatleslyrics.split('TOP\\\\n')\n",
    "print('number of songs: %d' % len(songs))\n",
    "np.random.seed(0)\n",
    "np.random.shuffle(songs)\n",
    "\n",
    "train_data = songs[:len(songs) * 34 // 100]\n",
    "val_data   = songs[len(songs) * 34 // 100:len(songs) * 67 // 100]\n",
    "test_data  = songs[len(songs) * 67 // 100:]\n",
    "\n",
    "train_data_ix = torch.tensor(char_to_ix(train_data), dtype=torch.float)\n",
    "train_data_array = torch.tensor(char_to_array(train_data))\n",
    "\n",
    "print(train_data_ix.shape)\n",
    "print(train_data_array.shape)\n",
    "\n",
    "val_data_ix = torch.tensor(char_to_ix(val_data), dtype=torch.float)\n",
    "val_data_array = torch.tensor(char_to_array(val_data))\n",
    "\n",
    "test_data_ix = torch.tensor(char_to_ix(test_data), dtype=torch.float)\n",
    "test_data_array = torch.tensor(char_to_array(test_data))\n",
    "\n",
    "print(len(train_data))\n",
    "print(len(val_data))\n",
    "print(len(test_data))"
   ]
  },
  {
   "cell_type": "code",
   "execution_count": 45,
   "metadata": {},
   "outputs": [],
   "source": [
    "class BeatlesLSTM(nn.Module):\n",
    "    def __init__(self, hidden_dim, num_stacks):\n",
    "        super(BeatlesLSTM, self).__init__()\n",
    "        self.hidden_dim = hidden_dim\n",
    "\n",
    "        self.lstm = nn.LSTM(char_dim, hidden_dim, num_layers=num_stacks, dropout=0.0)\n",
    "        \n",
    "        # The linear layer that maps from hidden state space to character space\n",
    "        self.hidden2char = nn.Linear(hidden_dim, char_dim)\n",
    "        self.init_hidden_zeros(1)\n",
    "    \n",
    "    def init_hidden_zeros(self, minibatch_size):\n",
    "        self.init_hidden(torch.zeros((self.lstm.num_layers, minibatch_size, self.hidden_dim)), torch.zeros((self.lstm.num_layers, minibatch_size, self.hidden_dim)))\n",
    "    \n",
    "    def init_hidden(self, h, c):\n",
    "        self.hidden = (h, c)\n",
    "\n",
    "    def forward(self, text):\n",
    "        # text should be of size (T, N, char_dim)\n",
    "        # returns character scores of size (T, N, char_dim)\n",
    "        \n",
    "        hs, self.hidden = self.lstm(text, self.hidden)\n",
    "        char_space = self.hidden2char(hs)\n",
    "        return char_space"
   ]
  },
  {
   "cell_type": "code",
   "execution_count": 43,
   "metadata": {},
   "outputs": [],
   "source": [
    "def model_loss(model, loss_func, data_ix, data_array):\n",
    "    model.lstm.eval()\n",
    "    this_minibatch_size = data_ix.shape[1]\n",
    "    model.init_hidden_zeros(this_minibatch_size)\n",
    "    sequence_in = data_ix[:-1, :, :]\n",
    "    #sequence_out = data_array[1:, :]\n",
    "\n",
    "    #char_scores = model(sequence_in)\n",
    "    #loss = loss_func(char_scores.view(-1, char_dim), sequence_out.view(-1))\n",
    "    loss = 0\n",
    "    with torch.no_grad():\n",
    "        for i, char_in in enumerate(sequence_in):\n",
    "            char_scores = model(char_in.view(1, this_minibatch_size, -1))\n",
    "            loss += loss_func(char_scores.view(-1, char_dim), data_array[i+1,:])\n",
    "    model.lstm.train()\n",
    "    return loss / len(sequence_in)"
   ]
  },
  {
   "cell_type": "code",
   "execution_count": 65,
   "metadata": {},
   "outputs": [
    {
     "name": "stdout",
     "output_type": "stream",
     "text": [
      "on epoch 0\n",
      "\ton iteration 8 / 15"
     ]
    },
    {
     "ename": "KeyboardInterrupt",
     "evalue": "",
     "output_type": "error",
     "traceback": [
      "\u001b[0;31m---------------------------------------------------------------------------\u001b[0m",
      "\u001b[0;31mKeyboardInterrupt\u001b[0m                         Traceback (most recent call last)",
      "\u001b[0;32m<ipython-input-65-426418f8a5c0>\u001b[0m in \u001b[0;36m<module>\u001b[0;34m()\u001b[0m\n\u001b[1;32m     20\u001b[0m         \u001b[0mmodel\u001b[0m\u001b[0;34m.\u001b[0m\u001b[0minit_hidden_zeros\u001b[0m\u001b[0;34m(\u001b[0m\u001b[0mthis_minibatch_size\u001b[0m\u001b[0;34m)\u001b[0m\u001b[0;34m\u001b[0m\u001b[0m\n\u001b[1;32m     21\u001b[0m \u001b[0;34m\u001b[0m\u001b[0m\n\u001b[0;32m---> 22\u001b[0;31m         \u001b[0mchar_scores\u001b[0m \u001b[0;34m=\u001b[0m \u001b[0mmodel\u001b[0m\u001b[0;34m(\u001b[0m\u001b[0msequence_in\u001b[0m\u001b[0;34m)\u001b[0m\u001b[0;34m\u001b[0m\u001b[0m\n\u001b[0m\u001b[1;32m     23\u001b[0m         \u001b[0mloss\u001b[0m \u001b[0;34m=\u001b[0m \u001b[0mloss_func\u001b[0m\u001b[0;34m(\u001b[0m\u001b[0mchar_scores\u001b[0m\u001b[0;34m.\u001b[0m\u001b[0mcontiguous\u001b[0m\u001b[0;34m(\u001b[0m\u001b[0;34m)\u001b[0m\u001b[0;34m.\u001b[0m\u001b[0mview\u001b[0m\u001b[0;34m(\u001b[0m\u001b[0;34m-\u001b[0m\u001b[0;36m1\u001b[0m\u001b[0;34m,\u001b[0m \u001b[0mchar_dim\u001b[0m\u001b[0;34m)\u001b[0m\u001b[0;34m,\u001b[0m \u001b[0msequence_out\u001b[0m\u001b[0;34m.\u001b[0m\u001b[0mcontiguous\u001b[0m\u001b[0;34m(\u001b[0m\u001b[0;34m)\u001b[0m\u001b[0;34m.\u001b[0m\u001b[0mview\u001b[0m\u001b[0;34m(\u001b[0m\u001b[0;34m-\u001b[0m\u001b[0;36m1\u001b[0m\u001b[0;34m)\u001b[0m\u001b[0;34m)\u001b[0m\u001b[0;34m\u001b[0m\u001b[0m\n\u001b[1;32m     24\u001b[0m         \u001b[0mloss\u001b[0m\u001b[0;34m.\u001b[0m\u001b[0mbackward\u001b[0m\u001b[0;34m(\u001b[0m\u001b[0;34m)\u001b[0m\u001b[0;34m\u001b[0m\u001b[0m\n",
      "\u001b[0;32m~/bin/anaconda3/envs/cs682/lib/python3.6/site-packages/torch/nn/modules/module.py\u001b[0m in \u001b[0;36m__call__\u001b[0;34m(self, *input, **kwargs)\u001b[0m\n\u001b[1;32m    487\u001b[0m             \u001b[0mresult\u001b[0m \u001b[0;34m=\u001b[0m \u001b[0mself\u001b[0m\u001b[0;34m.\u001b[0m\u001b[0m_slow_forward\u001b[0m\u001b[0;34m(\u001b[0m\u001b[0;34m*\u001b[0m\u001b[0minput\u001b[0m\u001b[0;34m,\u001b[0m \u001b[0;34m**\u001b[0m\u001b[0mkwargs\u001b[0m\u001b[0;34m)\u001b[0m\u001b[0;34m\u001b[0m\u001b[0m\n\u001b[1;32m    488\u001b[0m         \u001b[0;32melse\u001b[0m\u001b[0;34m:\u001b[0m\u001b[0;34m\u001b[0m\u001b[0m\n\u001b[0;32m--> 489\u001b[0;31m             \u001b[0mresult\u001b[0m \u001b[0;34m=\u001b[0m \u001b[0mself\u001b[0m\u001b[0;34m.\u001b[0m\u001b[0mforward\u001b[0m\u001b[0;34m(\u001b[0m\u001b[0;34m*\u001b[0m\u001b[0minput\u001b[0m\u001b[0;34m,\u001b[0m \u001b[0;34m**\u001b[0m\u001b[0mkwargs\u001b[0m\u001b[0;34m)\u001b[0m\u001b[0;34m\u001b[0m\u001b[0m\n\u001b[0m\u001b[1;32m    490\u001b[0m         \u001b[0;32mfor\u001b[0m \u001b[0mhook\u001b[0m \u001b[0;32min\u001b[0m \u001b[0mself\u001b[0m\u001b[0;34m.\u001b[0m\u001b[0m_forward_hooks\u001b[0m\u001b[0;34m.\u001b[0m\u001b[0mvalues\u001b[0m\u001b[0;34m(\u001b[0m\u001b[0;34m)\u001b[0m\u001b[0;34m:\u001b[0m\u001b[0;34m\u001b[0m\u001b[0m\n\u001b[1;32m    491\u001b[0m             \u001b[0mhook_result\u001b[0m \u001b[0;34m=\u001b[0m \u001b[0mhook\u001b[0m\u001b[0;34m(\u001b[0m\u001b[0mself\u001b[0m\u001b[0;34m,\u001b[0m \u001b[0minput\u001b[0m\u001b[0;34m,\u001b[0m \u001b[0mresult\u001b[0m\u001b[0;34m)\u001b[0m\u001b[0;34m\u001b[0m\u001b[0m\n",
      "\u001b[0;32m<ipython-input-45-37bbeebc299e>\u001b[0m in \u001b[0;36mforward\u001b[0;34m(self, text)\u001b[0m\n\u001b[1;32m     20\u001b[0m         \u001b[0;31m# returns character scores of size (T, N, char_dim)\u001b[0m\u001b[0;34m\u001b[0m\u001b[0;34m\u001b[0m\u001b[0m\n\u001b[1;32m     21\u001b[0m \u001b[0;34m\u001b[0m\u001b[0m\n\u001b[0;32m---> 22\u001b[0;31m         \u001b[0mhs\u001b[0m\u001b[0;34m,\u001b[0m \u001b[0mself\u001b[0m\u001b[0;34m.\u001b[0m\u001b[0mhidden\u001b[0m \u001b[0;34m=\u001b[0m \u001b[0mself\u001b[0m\u001b[0;34m.\u001b[0m\u001b[0mlstm\u001b[0m\u001b[0;34m(\u001b[0m\u001b[0mtext\u001b[0m\u001b[0;34m,\u001b[0m \u001b[0mself\u001b[0m\u001b[0;34m.\u001b[0m\u001b[0mhidden\u001b[0m\u001b[0;34m)\u001b[0m\u001b[0;34m\u001b[0m\u001b[0m\n\u001b[0m\u001b[1;32m     23\u001b[0m         \u001b[0mchar_space\u001b[0m \u001b[0;34m=\u001b[0m \u001b[0mself\u001b[0m\u001b[0;34m.\u001b[0m\u001b[0mhidden2char\u001b[0m\u001b[0;34m(\u001b[0m\u001b[0mhs\u001b[0m\u001b[0;34m)\u001b[0m\u001b[0;34m\u001b[0m\u001b[0m\n\u001b[1;32m     24\u001b[0m         \u001b[0;32mreturn\u001b[0m \u001b[0mchar_space\u001b[0m\u001b[0;34m\u001b[0m\u001b[0m\n",
      "\u001b[0;32m~/bin/anaconda3/envs/cs682/lib/python3.6/site-packages/torch/nn/modules/module.py\u001b[0m in \u001b[0;36m__call__\u001b[0;34m(self, *input, **kwargs)\u001b[0m\n\u001b[1;32m    487\u001b[0m             \u001b[0mresult\u001b[0m \u001b[0;34m=\u001b[0m \u001b[0mself\u001b[0m\u001b[0;34m.\u001b[0m\u001b[0m_slow_forward\u001b[0m\u001b[0;34m(\u001b[0m\u001b[0;34m*\u001b[0m\u001b[0minput\u001b[0m\u001b[0;34m,\u001b[0m \u001b[0;34m**\u001b[0m\u001b[0mkwargs\u001b[0m\u001b[0;34m)\u001b[0m\u001b[0;34m\u001b[0m\u001b[0m\n\u001b[1;32m    488\u001b[0m         \u001b[0;32melse\u001b[0m\u001b[0;34m:\u001b[0m\u001b[0;34m\u001b[0m\u001b[0m\n\u001b[0;32m--> 489\u001b[0;31m             \u001b[0mresult\u001b[0m \u001b[0;34m=\u001b[0m \u001b[0mself\u001b[0m\u001b[0;34m.\u001b[0m\u001b[0mforward\u001b[0m\u001b[0;34m(\u001b[0m\u001b[0;34m*\u001b[0m\u001b[0minput\u001b[0m\u001b[0;34m,\u001b[0m \u001b[0;34m**\u001b[0m\u001b[0mkwargs\u001b[0m\u001b[0;34m)\u001b[0m\u001b[0;34m\u001b[0m\u001b[0m\n\u001b[0m\u001b[1;32m    490\u001b[0m         \u001b[0;32mfor\u001b[0m \u001b[0mhook\u001b[0m \u001b[0;32min\u001b[0m \u001b[0mself\u001b[0m\u001b[0;34m.\u001b[0m\u001b[0m_forward_hooks\u001b[0m\u001b[0;34m.\u001b[0m\u001b[0mvalues\u001b[0m\u001b[0;34m(\u001b[0m\u001b[0;34m)\u001b[0m\u001b[0;34m:\u001b[0m\u001b[0;34m\u001b[0m\u001b[0m\n\u001b[1;32m    491\u001b[0m             \u001b[0mhook_result\u001b[0m \u001b[0;34m=\u001b[0m \u001b[0mhook\u001b[0m\u001b[0;34m(\u001b[0m\u001b[0mself\u001b[0m\u001b[0;34m,\u001b[0m \u001b[0minput\u001b[0m\u001b[0;34m,\u001b[0m \u001b[0mresult\u001b[0m\u001b[0;34m)\u001b[0m\u001b[0;34m\u001b[0m\u001b[0m\n",
      "\u001b[0;32m~/bin/anaconda3/envs/cs682/lib/python3.6/site-packages/torch/nn/modules/rnn.py\u001b[0m in \u001b[0;36mforward\u001b[0;34m(self, input, hx)\u001b[0m\n\u001b[1;32m    177\u001b[0m         \u001b[0;32mif\u001b[0m \u001b[0mbatch_sizes\u001b[0m \u001b[0;32mis\u001b[0m \u001b[0;32mNone\u001b[0m\u001b[0;34m:\u001b[0m\u001b[0;34m\u001b[0m\u001b[0m\n\u001b[1;32m    178\u001b[0m             result = _impl(input, hx, self._flat_weights, self.bias, self.num_layers,\n\u001b[0;32m--> 179\u001b[0;31m                            self.dropout, self.training, self.bidirectional, self.batch_first)\n\u001b[0m\u001b[1;32m    180\u001b[0m         \u001b[0;32melse\u001b[0m\u001b[0;34m:\u001b[0m\u001b[0;34m\u001b[0m\u001b[0m\n\u001b[1;32m    181\u001b[0m             result = _impl(input, batch_sizes, hx, self._flat_weights, self.bias,\n",
      "\u001b[0;31mKeyboardInterrupt\u001b[0m: "
     ]
    }
   ],
   "source": [
    "model = BeatlesLSTM(64, 1)\n",
    "loss_func = torch.nn.CrossEntropyLoss()\n",
    "optimizer = optim.RMSprop(model.parameters())\n",
    "\n",
    "train_losses = []\n",
    "val_losses = []\n",
    "minibatch_size = 4\n",
    "\n",
    "for epoch in range(30):\n",
    "    print('on epoch %d' % epoch)\n",
    "    for i in range((train_data_ix.shape[1] + 1) // minibatch_size):\n",
    "        print('\\r\\ton iteration %d / %d' % (i, (train_data_ix.shape[1] + 1) // minibatch_size), end='')\n",
    "        model.zero_grad()\n",
    "        \n",
    "        sequence_in = train_data_ix[:-1, i * minibatch_size : (i + 1) * minibatch_size, :]\n",
    "        sequence_out = train_data_array[1:, i * minibatch_size : (i + 1) * minibatch_size]\n",
    "        \n",
    "        # the last minibatch might have a different size if minibatch_size doesn't evenly divide the number of songs\n",
    "        this_minibatch_size = sequence_in.shape[1]\n",
    "        model.init_hidden_zeros(this_minibatch_size)\n",
    "        \n",
    "        char_scores = model(sequence_in)\n",
    "        loss = loss_func(char_scores.contiguous().view(-1, char_dim), sequence_out.contiguous().view(-1))\n",
    "        loss.backward()\n",
    "        torch.nn.utils.clip_grad_norm_(model.parameters(), 5)\n",
    "        optimizer.step()\n",
    "    print()\n",
    "    train_loss = model_loss(model, loss_func, train_data_ix, train_data_array)\n",
    "    val_loss = model_loss(model, loss_func, val_data_ix, val_data_array)\n",
    "    print('\\ttraining loss = %f' % train_loss)\n",
    "    print('\\tvalidation loss = %f' % val_loss)\n",
    "    train_losses += [train_loss]\n",
    "    val_losses += [val_loss]\n",
    "    torch.save(model.state_dict(), 'model_checkpoint_beatles_h64s_1layer_mb4_epoch' + str(epoch))\n",
    "\n",
    "train_losses += [train_loss]\n",
    "val_losses += [val_loss]\n",
    "\n",
    "ts = np.arange(30)\n",
    "plt.plot(ts, train_losses, label='training loss')\n",
    "plt.plot(ts, val_losses, label='validation loss')\n",
    "plt.legend(loc='best')\n",
    "plt.show()\n",
    "\n",
    "#############################\n",
    "\n",
    "model = BeatlesLSTM(128, 1)\n",
    "loss_func = torch.nn.CrossEntropyLoss()\n",
    "optimizer = optim.RMSprop(model.parameters())\n",
    "\n",
    "train_losses = []\n",
    "val_losses = []\n",
    "minibatch_size = 4\n",
    "\n",
    "for epoch in range(30):\n",
    "    print('on epoch %d' % epoch)\n",
    "    for i in range((train_data_ix.shape[1] + 1) // minibatch_size):\n",
    "        print('\\r\\ton iteration %d / %d' % (i, (train_data_ix.shape[1] + 1) // minibatch_size), end='')\n",
    "        model.zero_grad()\n",
    "        \n",
    "        sequence_in = train_data_ix[:-1, i * minibatch_size : (i + 1) * minibatch_size, :]\n",
    "        sequence_out = train_data_array[1:, i * minibatch_size : (i + 1) * minibatch_size]\n",
    "        \n",
    "        # the last minibatch might have a different size if minibatch_size doesn't evenly divide the number of songs\n",
    "        this_minibatch_size = sequence_in.shape[1]\n",
    "        model.init_hidden_zeros(this_minibatch_size)\n",
    "        \n",
    "        char_scores = model(sequence_in)\n",
    "        loss = loss_func(char_scores.contiguous().view(-1, char_dim), sequence_out.contiguous().view(-1))\n",
    "        loss.backward()\n",
    "        torch.nn.utils.clip_grad_norm_(model.parameters(), 5)\n",
    "        optimizer.step()\n",
    "    print()\n",
    "    train_loss = model_loss(model, loss_func, train_data_ix, train_data_array)\n",
    "    val_loss = model_loss(model, loss_func, val_data_ix, val_data_array)\n",
    "    print('\\ttraining loss = %f' % train_loss)\n",
    "    print('\\tvalidation loss = %f' % val_loss)\n",
    "    train_losses += [train_loss]\n",
    "    val_losses += [val_loss]\n",
    "    torch.save(model.state_dict(), 'model_checkpoint_beatles_h128s_1layer_mb4_epoch' + str(epoch))\n",
    "\n",
    "train_losses += [train_loss]\n",
    "val_losses += [val_loss]\n",
    "\n",
    "ts = np.arange(30)\n",
    "plt.plot(ts, train_losses, label='training loss')\n",
    "plt.plot(ts, val_losses, label='validation loss')\n",
    "plt.legend(loc='best')\n",
    "plt.show()"
   ]
  },
  {
   "cell_type": "code",
   "execution_count": 64,
   "metadata": {},
   "outputs": [
    {
     "data": {
      "image/png": "[encoded data removed]",
      "text/plain": [
       "<Figure size 432x288 with 1 Axes>"
      ]
     },
     "metadata": {},
     "output_type": "display_data"
    }
   ],
   "source": [
    "\n",
    "\n"
   ]
  },
  {
   "cell_type": "code",
   "execution_count": 60,
   "metadata": {},
   "outputs": [
    {
     "name": "stderr",
     "output_type": "stream",
     "text": [
      "/home/alex/bin/anaconda3/envs/cs682/lib/python3.6/site-packages/ipykernel_launcher.py:5: UserWarning: Implicit dimension choice for softmax has been deprecated. Change the call to include dim=X as an argument.\n",
      "  \"\"\"\n"
     ]
    },
    {
     "name": "stdout",
     "output_type": "stream",
     "text": [
      "\n",
      "For the sand all to see it abopt me.\n",
      "\n",
      "I dont lat a do.\n",
      "Some me be me the some it a man the mard the say\n",
      "Its what I want)\n",
      "She good it want of near bele to the mand the mo.\n",
      "You know I love it's it all the slead,\n",
      "If you know I love me\n",
      "\n",
      "Somed Im the some loverstreed the girl\n",
      "Its the mind it bebely Fielly don't here with you,\n",
      "You know the some foot en the way\n",
      "I want to pleave me\n",
      "\n",
      "I find me.\n",
      "\n",
      "I say the song to be you say the man the fear.\n",
      "\n",
      "\n"
     ]
    }
   ],
   "source": [
    "softmax = torch.nn.Softmax()\n",
    "chars = range(128)\n",
    "\n",
    "def sample_char(char_scores, temp):\n",
    "    char_scores = softmax(char_scores / temp)\n",
    "    char = np.random.choice(chars, p=char_scores.detach().numpy())\n",
    "    while not chr(char) in string.printable and char != 0:\n",
    "        char = np.random.choice(chars, p=char_scores.detach().numpy())\n",
    "    return char\n",
    "\n",
    "def sample(model, first_char, init_hidden, T, temp):\n",
    "    model.init_hidden_zeros(1)\n",
    "    result = first_char\n",
    "    cur_char = ord(first_char)\n",
    "    for t in range(T):\n",
    "        one_hot_char = torch.tensor(i128[cur_char], dtype=torch.float).view(1, 1, -1)\n",
    "        char_scores = model(one_hot_char)\n",
    "        cur_char = sample_char(char_scores.view(-1), temp)\n",
    "        if cur_char == 0:\n",
    "            return result\n",
    "        result += chr(cur_char)\n",
    "    return result\n",
    "\n",
    "sampled_song = sample(model, '\\\\', torch.zeros((1, 1, model.hidden_dim)), 500, 0.5).replace('\\\\n', '\\n')\n",
    "print(sampled_song)"
   ]
  }
 ],
 "metadata": {
  "kernelspec": {
   "display_name": "Python 3",
   "language": "python",
   "name": "python3"
  },
  "language_info": {
   "codemirror_mode": {
    "name": "ipython",
    "version": 3
   },
   "file_extension": ".py",
   "mimetype": "text/x-python",
   "name": "python",
   "nbconvert_exporter": "python",
   "pygments_lexer": "ipython3",
   "version": "3.6.5"
  }
 },
 "nbformat": 4,
 "nbformat_minor": 2
}
